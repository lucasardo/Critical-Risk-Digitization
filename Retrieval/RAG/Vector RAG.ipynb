{
 "cells": [
  {
   "cell_type": "markdown",
   "metadata": {},
   "source": [
    "## Setup"
   ]
  },
  {
   "cell_type": "code",
   "execution_count": 1,
   "metadata": {},
   "outputs": [
    {
     "data": {
      "text/plain": [
       "True"
      ]
     },
     "execution_count": 1,
     "metadata": {},
     "output_type": "execute_result"
    }
   ],
   "source": [
    "from azure.search.documents import SearchClient\n",
    "from azure.search.documents.models import VectorizedQuery\n",
    "from azure.core.credentials import AzureKeyCredential\n",
    "\n",
    "from langchain_core.prompts import ChatPromptTemplate, MessagesPlaceholder\n",
    "from langgraph.graph import END, StateGraph\n",
    "\n",
    "from langchain_community.tools import WikipediaQueryRun\n",
    "from langchain_community.utilities import WikipediaAPIWrapper\n",
    "from langchain_community.utilities.alpha_vantage import AlphaVantageAPIWrapper\n",
    "from langchain_openai import AzureChatOpenAI\n",
    "from langchain_openai import AzureOpenAIEmbeddings\n",
    "from langchain_community.tools import DuckDuckGoSearchRun\n",
    "from langgraph.graph import END, StateGraph, START\n",
    "from langgraph.prebuilt import ToolNode\n",
    "from langgraph.prebuilt import tools_condition\n",
    "from langchain_community.retrievers import AzureAISearchRetriever\n",
    "from langchain_core.prompts.prompt import PromptTemplate\n",
    "from langchain_core.prompts.base import BasePromptTemplate\n",
    "\n",
    "from langchain_core.output_parsers import StrOutputParser\n",
    "from langchain_core.prompts import ChatPromptTemplate\n",
    "from langchain_core.runnables import RunnablePassthrough\n",
    "from langchain_openai import ChatOpenAI\n",
    "\n",
    "from langchain_core.messages import (\n",
    "    BaseMessage,\n",
    "    ToolMessage,\n",
    "    HumanMessage,\n",
    ")\n",
    "from IPython.display import Image, display\n",
    "\n",
    "from langsmith import Client\n",
    "from langsmith import traceable\n",
    "import os\n",
    "import requests\n",
    "\n",
    "import pprint\n",
    "import textwrap\n",
    "import xlsxwriter\n",
    "import pandas as pd\n",
    "from typing import List\n",
    "import datetime\n",
    "import time\n",
    "\n",
    "#Azure Search\n",
    "from azure.search.documents import SearchClient\n",
    "from azure.search.documents.indexes import SearchIndexClient\n",
    "from azure.core.credentials import AzureKeyCredential\n",
    "from azure.search.documents.models import VectorizedQuery\n",
    "from azure.search.documents.indexes.models import (\n",
    "    ComplexField,\n",
    "    CorsOptions,\n",
    "    SearchIndex,\n",
    "    ScoringProfile,\n",
    "    SearchFieldDataType,\n",
    "    SimpleField,\n",
    "    SearchField,\n",
    "    SearchableField,\n",
    "    VectorSearch,\n",
    "    VectorSearchProfile,\n",
    "    HnswAlgorithmConfiguration,\n",
    ")\n",
    "\n",
    "from llama_index.core import (\n",
    "    SimpleDirectoryReader,\n",
    "    StorageContext,\n",
    "    VectorStoreIndex,\n",
    ")\n",
    "from llama_index.core.node_parser import (\n",
    "    SentenceSplitter,\n",
    "    SemanticSplitterNodeParser,\n",
    ")\n",
    "from llama_index.core.settings import Settings\n",
    "from llama_index.core.ingestion import IngestionPipeline\n",
    "from llama_index.core import (\n",
    "    ServiceContext,\n",
    "    PromptHelper,\n",
    ")\n",
    "from llama_index.llms.azure_openai import AzureOpenAI\n",
    "from llama_index.embeddings.azure_openai import AzureOpenAIEmbedding\n",
    "\n",
    "import nltk\n",
    "from nltk.tokenize import word_tokenize\n",
    "import time\n",
    "import openai\n",
    "import base64\n",
    "\n",
    "from dotenv import load_dotenv\n",
    "load_dotenv(\"Azure OpenAI credentials.env\")"
   ]
  },
  {
   "cell_type": "code",
   "execution_count": 2,
   "metadata": {},
   "outputs": [],
   "source": [
    "os.environ[\"AZURESEARCH_FIELDS_ID\"] = \"id\"\n",
    "os.environ[\"AZURESEARCH_FIELDS_CONTENT\"] = \"chunk\"\n",
    "os.environ[\"AZURESEARCH_FIELDS_CONTENT_VECTOR\"] = \"embedding\"\n",
    "\n",
    "from langchain.vectorstores import AzureSearch"
   ]
  },
  {
   "cell_type": "code",
   "execution_count": 3,
   "metadata": {},
   "outputs": [],
   "source": [
    "azure_endpoint = os.environ['GLOBAL_AZURE_ENDPOINT']\n",
    "openai_api_key = os.environ['GLOBAL_OPENAI_API_KEY']\n",
    "\n",
    "openai_deployment_name = os.environ['GLOBAL_GPT_DEPLOYMENT_NAME']\n",
    "openai_api_version = os.environ['GLOBAL_OPENAI_API_VERSION']\n",
    "embedding_model = os.environ['GLOBAL_EMBEDDING_MODEL']\n",
    "embedding_deployment_name = os.environ['GLOBAL_EMBEDDING_DEPLOYMENT_NAME']\n",
    "\n",
    "search_endpoint = os.environ['SEARCH_ENDPOINT']\n",
    "search_api_key = os.environ['SEARCH_API_KEY']\n",
    "search_api_version = os.environ['SEARCH_API_VERSION']\n",
    "search_service_name = os.environ['SEARCH_SERVICE_NAME']\n",
    "\n",
    "# langsmith_api_key = os.environ['LANGSMITH_API_KEY']\n",
    "\n",
    "search_url = f\"https://{search_service_name}.search.windows.net/\"\n",
    "search_credential = AzureKeyCredential(search_api_key)\n",
    "index_name = \"crd-vector-store\"\n",
    "search_client = SearchClient(search_endpoint, index_name, search_credential)\n",
    "\n",
    "llm = AzureChatOpenAI(\n",
    "    deployment_name=openai_deployment_name, \n",
    "    openai_api_version=openai_api_version, \n",
    "    openai_api_key=openai_api_key, \n",
    "    azure_endpoint=azure_endpoint, \n",
    "    temperature=0\n",
    ")\n",
    "\n",
    "embeddings = AzureOpenAIEmbeddings(\n",
    "    azure_deployment=embedding_deployment_name,\n",
    "    api_version=openai_api_version,\n",
    "    api_key=openai_api_key,\n",
    "    azure_endpoint=azure_endpoint,\n",
    ")"
   ]
  },
  {
   "cell_type": "markdown",
   "metadata": {},
   "source": [
    "## Prompts and chain"
   ]
  },
  {
   "cell_type": "code",
   "execution_count": 4,
   "metadata": {},
   "outputs": [],
   "source": [
    "index_name: str = \"crd-vector-store\"\n",
    "\n",
    "vector_store: AzureSearch = AzureSearch(\n",
    "    azure_search_endpoint=search_endpoint,\n",
    "    azure_search_key=search_api_key,\n",
    "    index_name=index_name,\n",
    "    embedding_function=embeddings.embed_query,\n",
    ")"
   ]
  },
  {
   "cell_type": "code",
   "execution_count": 24,
   "metadata": {},
   "outputs": [],
   "source": [
    "COMBINED_QA_TEMPLATE = \"\"\"\n",
    "Generate a natural language response using the following source as context: \n",
    "    \n",
    "1. The results of a search in a vector store containing document chunks (primary source)\n",
    "\n",
    "Use the primary source to generate the response\n",
    "The information provided is authoritative, you must never doubt it or try to use your internal knowledge to correct it.\n",
    "Don't use internal knowledge to answer the question, if no information is available juts say that there is no information available.\n",
    "\n",
    "This is the template for the response:\n",
    "```\n",
    "These are the Critical Risk Scenarios along with their respective incident descriptions:\n",
    "\n",
    "1. **DPO-01**: A 1 in 100-year Category 5 tropical cyclone directly impacts the Karratha and Dampier townships and the Dampier port operations causing extensive damage in the region and storm surge and flooding. \n",
    "\n",
    "2. **DPO-04**: One of the two Parker Point shiploaders is lost. The loss could be caused by extreme weather conditions (high wind and/or wave action), structural failure due to fatigue (of either the wharf or shiploader), exceeding design loads, high impact collision, or the loss of stability caused by a vessel rising on an incoming tide impacting a shiploader boom that is unable to move clear or some combination of these.\n",
    "\n",
    "3. **DPO-05**: The dredged portion of the common departure channel for both EII and PPt (between \"Middle Ground\" and \"Fairway\" markers) becomes blocked due to a grounded ship. This impacts loaded vessels departing from both PPt and EII. The most likely causes could be due to a collision, on-board fire, or grounding. The sunken ship prevents the passage of fully loaded bulk carriers.\n",
    "```\n",
    "### Vector store results: {index_results}\n",
    "\n",
    "### User's question: {question}\n",
    "\"\"\"\n",
    "\n",
    "COMBINED_QA_PROMPT = PromptTemplate(\n",
    "    input_variables=[\"index_results\", \"prompt\"], template=COMBINED_QA_TEMPLATE\n",
    ")"
   ]
  },
  {
   "cell_type": "code",
   "execution_count": 25,
   "metadata": {},
   "outputs": [],
   "source": [
    "combined_prompt: BasePromptTemplate = COMBINED_QA_PROMPT\n",
    "combined_chain = combined_prompt | llm"
   ]
  },
  {
   "cell_type": "markdown",
   "metadata": {},
   "source": [
    "## Walkthrough"
   ]
  },
  {
   "cell_type": "code",
   "execution_count": 32,
   "metadata": {},
   "outputs": [],
   "source": [
    "system_prompt = \"Extract the keywords from this user's question. They will be used for a search in a vector store. The output should be only a text string. User's query: \""
   ]
  },
  {
   "cell_type": "code",
   "execution_count": 33,
   "metadata": {},
   "outputs": [],
   "source": [
    "input_query = \"Tell me about the 2021 Dredging campaign\""
   ]
  },
  {
   "cell_type": "code",
   "execution_count": 39,
   "metadata": {},
   "outputs": [
    {
     "data": {
      "text/plain": [
       "\"Extract the keywords from this user's question. They will be used for a search in a vector store. The output should be only a text string. User's query: Tell me about the 2021 Dredging campaign\""
      ]
     },
     "execution_count": 39,
     "metadata": {},
     "output_type": "execute_result"
    }
   ],
   "source": [
    "raw_query = str(system_prompt + input_query)\n",
    "raw_query"
   ]
  },
  {
   "cell_type": "code",
   "execution_count": 37,
   "metadata": {},
   "outputs": [],
   "source": [
    "search_query = llm.invoke(raw_query)"
   ]
  },
  {
   "cell_type": "code",
   "execution_count": 28,
   "metadata": {},
   "outputs": [
    {
     "data": {
      "text/plain": [
       "'2021 Dredging campaign'"
      ]
     },
     "execution_count": 28,
     "metadata": {},
     "output_type": "execute_result"
    }
   ],
   "source": [
    "search_query.content"
   ]
  },
  {
   "cell_type": "code",
   "execution_count": 29,
   "metadata": {},
   "outputs": [],
   "source": [
    "# Vector store search\n",
    "index_results = vector_store.hybrid_search(\n",
    "query=search_query.content, k=10\n",
    ")"
   ]
  },
  {
   "cell_type": "code",
   "execution_count": 30,
   "metadata": {},
   "outputs": [
    {
     "data": {
      "text/plain": [
       "[Document(metadata={'doc_path': 'Dampier_Port_CRA_MFL_2023_3.pdf', 'id': 'NTY0LURhbXBpZXJfUG9ydF9DUkFfTUZMXzIwMjNfMy5wZGY=', '@search.score': 0.03226646035909653, '@search.reranker_score': None, '@search.highlights': None, '@search.captions': None}, page_content='This remains  in progress.\\nHawcroft  2021:  Capital  funds  are approved  for work  to commence  on site following  the construction  of purpose\\nbuilt jig lifting  frame  for the lay by berth.  As works  have  not be completed  this remains  in progress.\\nDPO  2021:  Vendor  engaged  to commence  works  in Q4 2021.\\nHawcroft  2022:  This work  is underway.\\nDP0 2022:  The estimated  loss for this scenario  is considerably  reduced  as we have  blast  and painted  all critical\\ncorrosion  areas  on the 9 of the 12 walkways  at a cost of approximately  $4.5M.  During  this work,  actual\\ncorrosion  below  rust was somewhat  less than expected  and no structural  patching  was required  for any areas\\ngiven  corrosion  allowances  and redundancy  in the original  design.  Scaling  surface  rust was removed  for the\\nremaining  3 walkways  and no areas  of concern  have  been  identified.  Currently  the remaining  sections  of\\nwalkway  are proposed  to be remediated  in 2024  but are considered  relatively  low priority  given  the current\\nmetal  condition  and observed  rates  of corrosion  on this walkway.\\nHawcroft  2023:  The upper  tube section  has now been  recoated  and for the most  part corrosion  as been\\naddressed  in that section,  hence  the recommendation  has been  completed.  Corrosion  of the piles for the berth\\nwas noted  and is subject  to another  recommendation.'),\n",
       " Document(metadata={'doc_path': 'Dampier_Port_CRA_MFL_2023_3.pdf', 'id': 'NTA2LURhbXBpZXJfUG9ydF9DUkFfTUZMXzIwMjNfMy5wZGY=', '@search.score': 0.03205128386616707, '@search.reranker_score': None, '@search.highlights': None, '@search.captions': None}, page_content='HCI 2019:  The progress  will be checked  on the next survey.\\nHawcroft  2020:  the site states  with respect  to EII, we are in the process  of tendering  works  for refurbishment  on\\nthe top tube of the EII Layby  Berth  which  supports  the access  to individual  dolphins  in the layby  Berth  (P-\\n0506519),  with the intend  on starting  these  works  in Q4 2020.  Refurbishment  of dolphins  10 to 13 and walkway\\npile repainting  will probably  be split into a new project  for execution  in 2021  or 2022  subject  to asset  condition.\\nWe have  also done  some  work  on preliminary  pricing  of remediation  of the EII maintenance  bay (P-0506535),\\nwith works  expected  to be undertaken  in 2021  or 2022.  The maintenance  bay steelwork  has suffered  early\\npaint  loss due to fabrication  issues,  however  actual  corrosion  is relatively  minimal.  The asset  has a criticality  of\\n2 on our 1 to 4 criticality  scale  (4 being  highest).  If further  degradation  occurs,  we have  the ability  reduce  the\\nload capacity  of this maintenance  bay for crane  operations  with relatively  minimal  scheduled  loss or cost to\\noperations.\\nAt Parker  Point  the main  focus  of work  is on a project  (P-0504300)  to refurbish  the wharf  piles constructed  in\\n2004  (Dampier  Port Upgrade  Phase  A). An order  of magnitude  study  was completed  this year and works\\nprogrammed  to begin  in Q3 2021.  In 2017  remedial  works  were  conducted  on the PPT approach  jetty,  and this\\nwork  gives  an indication  of the extent  of damage  and remediation  (plating)  expected  to be required  on the\\nPhase  A piles.  Remediation  of two old dolphins  (Berth  1 – Fuel Berth)  is also planned  to occur  in 2021.\\nThis remains  in progress\\nHawcroft  2021:  The works  are progressing  with a expected  completion  date of Q4 2023,  this remains  in\\nprogress.\\n'),\n",
       " Document(metadata={'doc_path': 'Dampier_Port_CRA_MFL_2023_3.pdf', 'id': 'NTA4LURhbXBpZXJfUG9ydF9DUkFfTUZMXzIwMjNfMy5wZGY=', '@search.score': 0.0317540317773819, '@search.reranker_score': None, '@search.highlights': None, '@search.captions': None}, page_content='DPO  2021:  Remains  in progress  and expected  completion  date of Q4 2023.\\nHawcroft:  While  progress  has been  made  at EII little progress  has been  achieved  a Parker  Point  and further\\ndeterioration  is evident.\\nDPO  2022:  Investigation  works  : Feasibility  studies  for remediation  works  at Parker  Point  wharf  have  continued\\nduring  2022.  These  works  have  included  a detailed  assessment  of asset  condition  and trial of a robotic  high\\npressure  water  blasting  tool which  ascends  piles.  NDT metal  thickness  testing  was also conducted  on the\\nwharf  adjacent  to ship berths  in 2021  to understand  areas  of maximum  corrosion.  An overall  capital  plan and\\nprogram  has also been  developed  for the complete  Parker  Point  Wharf  and EII wharf  as part of 10 year asset\\nmanagement  plans.  This program  is based  on expected  degradation  and paint  loss over this period,\\nHawcroft  2023:  No change  has occurred  to the affected  sections  with the paint  loss continuing  and allowing\\nsurface  corrosion  to occur.\\nDate  Completed /Superseded /Rejected Expenditure DPO  to advise'),\n",
       " Document(metadata={'doc_path': 'Dampier_Port_CRA_MFL_2023_3.pdf', 'id': 'NDc4LURhbXBpZXJfUG9ydF9DUkFfTUZMXzIwMjNfMy5wZGY=', '@search.score': 0.027313265949487686, '@search.reranker_score': None, '@search.highlights': None, '@search.captions': None}, page_content='Hamersley  Iron Pty Ltd - Dampier  Port\\n16 October  2023Rio Tinto  – Critical  Risk Assessment\\nPage  105\\nCONFIDENTIALDPO  2022:  In 2022  coating  reinstatement  has focused  on the EII Layby  Berth,  and EII Wharf  Maintenance  Bay.\\nIn 2023  remediation  will commence  on the PPT - Wharf  Piles  - Structural  Integrity  Phase  A and replacement  of\\n2 dolphins  on the Parker  Point  Fuel Berth.  In 2024  Site works  will begin  on the Parker  Point  Wharf  deck  and\\nDolphins  in Berth  2 and 3. Dolphins  in Berth  4 and 5 are scheduled  in commence  in 2026.  The forecast  cash\\nflow from 2022  to 2026  is $7.8M,$8.6M,$39.4M,$48.3M,$56.0M  respectively.\\nIn addition  to the proposed  remediation  program,  the following  activities  have  been  undertaken  as further\\ncontrols  to mitigate  risk:\\n-In 2017  we determined  the minimum  acceptable  structural  section  properties  for wharf  piles for 100%\\nutilisation  at ultimate  load and safety  factors  to AS4100/AS1170),  and track  condition  against  these  values  for\\neach  pile in the life cycle  model.\\n-We undertook  extensive  NDT testing  in 2021  of piles and steelwork  at Parker  Point  to confirm  asset  condition.\\n-In 2022,  we undertook  approximately  $1M of high priority  repainting  works  on the main  shiploader  rail girder\\nnear Dolphin  9S to remediate  50m of beam  which  required  painting  ahead  of the main  deck  project  scheduled\\nto commence  in 2024.\\nHawcroft  2023:  the following  projects  have  been  scheduled.\\nP-0504300  - PPT - Wharf  Piles  - Structural  Integrity  Phase  A:?\\n- Feasibility  Phase  Complete?\\n- Implementation  to commence  mid-August,  Stage  1 complete  by June  2024??\\nP-0506587  – PPT Marine  SI Program:?\\n- Feasibility  Phase  commencing  16th June  2023  – 3D photogrammetry,  Close  Visual  Inspection  and\\nEngineering?\\n- Implementation  to commence  January  2025?\\n'),\n",
       " Document(metadata={'doc_path': 'Dampier_Port_CRA_MFL_2023_3.pdf', 'id': 'NzgtRGFtcGllcl9Qb3J0X0NSQV9NRkxfMjAyM18zLnBkZg==', '@search.score': 0.01666666753590107, '@search.reranker_score': None, '@search.highlights': None, '@search.captions': None}, page_content='EII Yard  Rotor  Resistor  Cubicle  Upgrades\\n. DPR  Substations  Fire System  Upgrade\\n. PPT Dumper  Positioner  & Cell VVVF  Upgrade\\n. EII CD2E  Positioner  VVVF  Obsolescence\\n. EII Tripper  Car 19E Electrical  Upgrade\\n. Dpr Hydraulic  Unit - Fire Protection  Sys\\n. Dpr CD4P  Catenary  Cable  Replacement\\n. EII Transfer  Car Cable  Reeler  and Cable  Upgrade\\n. DPR  Positioner  Access  Personnel  Protection\\n. Dampier  Car Dumper  Gap Detection  by Lasers\\n. EII 5E cable  tray end of life replacement\\n. Kangaroo  Hill - Dampier  Highway  Intersection  Lighting\\n. Dampier  STARLIMS  Deployment\\n. DPR  Mobile  Machine  3.3kV  Switchgear  Upgrade  Stackers\\n. C/O CD2E  - Catenary  Cable\\n\\uf0b7Dredging  Campaign  2021  with Trailer  suction  dredge,  survey  vessels  and sweep  vessel  – total spend\\nof approximately  USD15M\\nKey Highlights\\n- Dampier  - 107,000m3  dredged  from channels,  turning  basins  and berth  pockets\\n- No environmental  incidents  or marine  fauna  fatalities\\n- Environmental  monitoring  completed  as per Sea Dumping  Permits  (SDP),  with SDP compliance\\nreporting  successfully  submitted.\\n1.3.4  Proposed  Projects  Over  USD20M\\n\\uf0b7The following  are proposed  or in progress  capital  projects  in 2023  with total expenditures  that exceed\\nUSD20M  (Note:  Future  expenditures  may still be subject  to financial  approval  and costings  may\\nchange  with project  maturity):\\n• PPT Reclaimer  Replacement                                    USD  657.53M\\n• PPT - Wharf  Piles  - Structural  Integrity  Phase  A      USD  26.67M\\n• PPT Deck  Structural  Life Extension                           USD  25.64M\\n• DPR  Replacement  Tugs                                            USD  25.0M\\n• DPR  Water  supply  upgrade                                      USD  22.19M\\n• PPT Service  Wharf  Upgrade                                     USD  21.57M'),\n",
       " Document(metadata={'doc_path': 'Dampier_Port_CRA_MFL_2023_3.pdf', 'id': 'MjItRGFtcGllcl9Qb3J0X0NSQV9NRkxfMjAyM18zLnBkZg==', '@search.score': 0.016393441706895828, '@search.reranker_score': None, '@search.highlights': None, '@search.captions': None}, page_content='There  were  none  having  mandatory  priority.\\nThe focus  of the new recommendations  was to further  support  the sites efforts  to control  the corrosion  attack  on\\nthe marine  structures  and housekeeping.  The focus  of the existing  recommendations  remaining  to be addressed\\nare fire water  and fire alarm  system  integrity,  deterioration  of aged  protective  coatings  on wharf  structural\\nelements  and structural  integrity  of maritime  structures.\\nHawcroft  Consulting  International  anticipates  that Dampier  Port will fit into a 1-year cycle  with the next expected\\nvisit in August  2024 .'),\n",
       " Document(metadata={'doc_path': 'Dampier_Port_CRA_MFL_2023_3.pdf', 'id': 'MTg4LURhbXBpZXJfUG9ydF9DUkFfTUZMXzIwMjNfMy5wZGY=', '@search.score': 0.016129031777381897, '@search.reranker_score': None, '@search.highlights': None, '@search.captions': None}, page_content='Hamersley  Iron Pty Ltd - Dampier  Port\\n16 October  2023Rio Tinto  – Critical  Risk Assessment\\nPage  43\\nCONFIDENTIALHazards  and Controls\\nInherent  Hazards \\uf0b7Only a single  dredged  channel  about  160 m wide provides  sufficient  draft to bring  vessels\\nin or out of both berths  while  the vessels  are up to 55 m wide.\\n\\uf0b7The middle  ground  of the departure  channel  is a continuous  curve  requiring  ships  to\\nmaintain  helm  throughout  the 30 minute  period  of the passage.\\n'),\n",
       " Document(metadata={'doc_path': 'Dampier_Port_CRA_MFL_2023_3.pdf', 'id': 'NTU2LURhbXBpZXJfUG9ydF9DUkFfTUZMXzIwMjNfMy5wZGY=', '@search.score': 0.01587301678955555, '@search.reranker_score': None, '@search.highlights': None, '@search.captions': None}, page_content='Hamersley  Iron Pty Ltd - Dampier  Port\\n16 October  2023Rio Tinto  – Critical  Risk Assessment\\nPage  123\\nCONFIDENTIALHCI (2019):  DPO  to advise.\\nHawcroft  2020:  Dampier  Ports  agree  with the recommendation  and would  like to advise  works  are in progress.\\nUltrasonic  based  online  condition  monitoring  tactics  are in the process  of being  applied  to all High Voltage\\nSwitchgear  under  management  of Dampier  Ports.\\nIn addition,  we are interested  in installed  condition  monitoring  solutions  such  as wireless  thermocouple  and\\noptic  fiber temperature  sensing.  Capital  Project  P-0508127EII  WHF  Substation  HV Online  Condition  Monitoring\\nhas been  proposed  for inclusion  in the Dampier  2021  Capital  plan as a proof  of concept  installation.\\nDPO  2021:  Dampier  Ports  would  like to advise  works  are in progress.  Ultrasonic  based  online  condition\\nmonitoring  tactics  have  been  introduced  on all Medium  Voltage  Switchgear  under  management  of Dampier\\nPorts.  In addition,  we are interested  in installing  condition  monitoring  solutions  such  as wireless  thermocouple\\nand optic  fiber temperature  sensing.  Capital  Project  P-0508127EII  WHF  Substation  HV Online  Condition\\nMonitoring  has been  proposed  for inclusion  in the Dampier  2021  Capital  plan as a proof  of concept  installation.\\nAt present  we have  proposed  the following  pilot project:\\nImplementation  of a pilot project  at the EII Wharf  Substation  for online  thermal  smart  sensor  camera  with on-\\ncamera  analytics  and alarm  capabilities  for condition  monitoring  and early  fire detection  applications  internally\\nwithin  the switchboard.\\nThe thermal  smart  sensor  cameras  can be grouped  to a central  controller  and the data (zone  temperatures)\\ncan be customized  and monitored  individually.  An inbuilt  AI system  can provide  predictive  MTBF  alerts  and\\ntrends  integrated  into the existing  Control  System  infrastructure.\\nImplementation  of online  condition  monitoring  of the insulation  resistance  to determine  the health  of the\\ninstallation  from the transformers  to the substation  and the connected  load.  There ’re two types  of insulation\\nfaults:\\nPhase- to-phase  insulation  fault\\nPhase- to-earth?  insulation  fault\\nProtection  against  phase- to-phase  insulation  fault is achieved  by overcurrent  protective  devices  (CB, fuses).\\nProtection  against  phase- to-earth  insulation  fault in earthed  systems  (solidly  or high/low  resistance  earthed\\nsystems?like  Dampier ’s) are achieved  by residual  current  monitoring  of outgoing?feeders  or current  monitoring\\non Transformer ’s Neutral  – to – Earth  connection.  Regular  insulation  resistance  test only give you snapshots  of\\nthe insulation  health,  but it can’t guarantee  that one day, one week  or one month  after the IR testing,  the\\ninsulation  of the installation  is still healthy.   The only way to guarantee  that is to continuously  monitor  loads  and\\nearth  leakage  currents.  ?In most  cases,  insulation  deteriorates  slowly  over the time.  So, by monitoring  the\\ncurrents,  the insulation  deterioration  can be detected  and recognised  at an early  stage  well before  it reaches\\ncritical  point  making  protective  devices  trip. The main  benefit  of the continuously  monitoring  is that you know\\neverything  about  health  of the installation  at any given  time that can help to avoid  unexpected  interruptions  to\\nthe process,  unplanned  downtime  and costly  repair.\\n'),\n",
       " Document(metadata={'doc_path': 'Dampier_Port_CRA_MFL_2023_3.pdf', 'id': 'NTYyLURhbXBpZXJfUG9ydF9DUkFfTUZMXzIwMjNfMy5wZGY=', '@search.score': 0.015625, '@search.reranker_score': None, '@search.highlights': None, '@search.captions': None}, page_content='Hamersley  Iron Pty Ltd - Dampier  Port\\n16 October  2023Rio Tinto  – Critical  Risk Assessment\\nPage  124\\nCONFIDENTIAL \\nReference  # DPO- 19-10-05 Priority High Return Status Completed\\nClassification Physical  Condition\\nSummary  Text Ensure  that the EII layby  wharf  corrosion  is addressed.\\nDetail  Text\\nIn the 2019  inspection  it was noted  that the EII layby  wharf  corrosion  was significant  to the point  that holing  of\\nthe upper  tubular  structural  elements  was possible.  This would  allow  internal  corrosion  of these  elements\\ncompromising  their structural  integrity.\\nObjectives Estimated  Cost USD 2.000 M\\nLoss  Estimate  Now Loss  Estimate  After  Rec Followed\\nLoss  USDM Likelihood Loss  USDM Likelihood\\n30.0 Possible 2.0 Unlikely\\nImproved  Critical  Risk  Scenarios\\nRisk  Management  System  Element  or Elements  Improved Maintenance\\nPosition  Accountable Manager  Marine\\nSite Response  or Comments  and Forecast  Completion  Date  (as at 01 September  2023 )\\nDPO  2019:  Accepted.\\nHawcroft  2020:  the site state  with respect  to EII, we are in the process  of tendering  works  for refurbishment  on\\nthe top tube of the EII Layby  Berth  which  supports  the access  to individual  dolphins  in the layby  Berth  (P-\\n0506519),  with the intend  on starting  these  works  in Q4 2020.  Refurbishment  of dolphins  10 to 13 and walkway\\npile repainting  will probably  be split into a new project  for execution  in 2021  or 2022  subject  to asset  condition.\\nWe have  also done  some  work  on preliminary  pricing  of remediation  of the EII maintenance  bay (P-0506535),\\nwith works  expected  to be undertaken  in 2021  or 2022.  The maintenance  bay steelwork  has suffered  early\\npaint  loss due to fabrication  issues,  however  actual  corrosion  is relatively  minimal.  The asset  has a criticality  of\\n2 on our 1 to 4 criticality  scale  (4 being  highest).  If further  degradation  occurs,  we have  the ability  reduce  the\\nload capacity  of this maintenance  bay for crane  operations  with relatively  minimal  scheduled  loss or cost to\\noperations.  '),\n",
       " Document(metadata={'doc_path': 'Dampier_Port_CRA_MFL_2023_3.pdf', 'id': 'NTYwLURhbXBpZXJfUG9ydF9DUkFfTUZMXzIwMjNfMy5wZGY=', '@search.score': 0.015384615398943424, '@search.reranker_score': None, '@search.highlights': None, '@search.captions': None}, page_content='Date  Completed /Superseded /Rejected 01 September  2023 Expenditure DPO  to advise')]"
      ]
     },
     "execution_count": 30,
     "metadata": {},
     "output_type": "execute_result"
    }
   ],
   "source": [
    "index_results"
   ]
  },
  {
   "cell_type": "code",
   "execution_count": 31,
   "metadata": {},
   "outputs": [
    {
     "name": "stdout",
     "output_type": "stream",
     "text": [
      "The 2021 Dredging Campaign at Dampier Port involved the use of a trailer suction dredge, survey vessels, and a sweep vessel. The total expenditure for this campaign was approximately USD 15 million. Key highlights of the campaign include:\n",
      "\n",
      "- A total of 107,000 cubic meters of material was dredged from channels, turning basins, and berth pockets.\n",
      "- There were no environmental incidents or marine fauna fatalities during the campaign.\n",
      "- Environmental monitoring was completed in accordance with Sea Dumping Permits (SDP), and SDP compliance reporting was successfully submitted.\n"
     ]
    }
   ],
   "source": [
    "# Answer generation\n",
    "combined_chain_result = combined_chain.invoke(\n",
    "    {\"question\": input_query, \"index_results\": index_results}\n",
    ")\n",
    "\n",
    "result = combined_chain_result.content\n",
    "print(result)"
   ]
  },
  {
   "cell_type": "markdown",
   "metadata": {},
   "source": [
    "## Validation"
   ]
  },
  {
   "cell_type": "code",
   "execution_count": 6,
   "metadata": {},
   "outputs": [],
   "source": [
    "questions_df = pd.read_excel(\"validation/Generated Questions.xlsx\")\n",
    "questions = questions_df[\"Question\"].tolist()"
   ]
  },
  {
   "cell_type": "code",
   "execution_count": 7,
   "metadata": {},
   "outputs": [],
   "source": [
    "results_df = pd.DataFrame(columns=[\"input_query\", \"result\"])"
   ]
  },
  {
   "cell_type": "code",
   "execution_count": null,
   "metadata": {},
   "outputs": [],
   "source": [
    "for input_query in questions:\n",
    "    \n",
    "    raw_query = str(system_prompt + input_query)\n",
    "    \n",
    "    search_query = llm.invoke(raw_query)\n",
    "    \n",
    "    # Vector store search\n",
    "    index_results = vector_store.hybrid_search(\n",
    "    query=search_query, k=10\n",
    "    )\n",
    "    \n",
    "    # Answer generation\n",
    "    combined_chain_result = combined_chain.invoke(\n",
    "        {\"question\": input_query, \"index_results\": index_results}\n",
    "    )\n",
    "\n",
    "    response = combined_chain_result.content\n",
    "    test_result = pd.DataFrame([{\n",
    "        \"input_query\": str(input_query),\n",
    "        \"result\": str(response),\n",
    "    }])\n",
    "\n",
    "    results_df = pd.concat([results_df, test_result], ignore_index=True)"
   ]
  },
  {
   "cell_type": "code",
   "execution_count": 11,
   "metadata": {},
   "outputs": [],
   "source": [
    "# Generate question codes\n",
    "code_sequence = [f\"CRD-{str(i).zfill(2)}\" for i in range(1, len(results_df) + 1)]\n",
    "try:\n",
    "    results_df.insert(0, 'code', code_sequence)\n",
    "except:\n",
    "    pass\n",
    "\n",
    "# Write data to Excel\n",
    "timestamp = pd.Timestamp.now().strftime(\"%Y_%m_%d_%H_%M_%S\")\n",
    "\n",
    "with pd.ExcelWriter(f\"validation/Vector Validation_{timestamp}.xlsx\", engine='xlsxwriter') as writer:\n",
    "\n",
    "    # Save results data to Sheet1\n",
    "    results_df.to_excel(writer, sheet_name='Sheet1', index=False)\n",
    "\n",
    "    # Access the workbook and worksheet for formatting\n",
    "    workbook = writer.book\n",
    "    worksheet1 = writer.sheets['Sheet1']\n",
    "\n",
    "    # Set column width\n",
    "    worksheet1.set_column(0, len(results_df.columns) - 1, 30)"
   ]
  }
 ],
 "metadata": {
  "kernelspec": {
   "display_name": "Python 3",
   "language": "python",
   "name": "python3"
  },
  "language_info": {
   "codemirror_mode": {
    "name": "ipython",
    "version": 3
   },
   "file_extension": ".py",
   "mimetype": "text/x-python",
   "name": "python",
   "nbconvert_exporter": "python",
   "pygments_lexer": "ipython3",
   "version": "3.12.2"
  }
 },
 "nbformat": 4,
 "nbformat_minor": 2
}
