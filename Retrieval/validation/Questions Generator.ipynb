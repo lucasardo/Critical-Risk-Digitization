{
 "cells": [
  {
   "cell_type": "markdown",
   "metadata": {},
   "source": [
    "## Setup"
   ]
  },
  {
   "cell_type": "code",
   "execution_count": 4,
   "metadata": {},
   "outputs": [
    {
     "data": {
      "text/plain": [
       "True"
      ]
     },
     "execution_count": 4,
     "metadata": {},
     "output_type": "execute_result"
    }
   ],
   "source": [
    "from __future__ import annotations\n",
    "from langchain_openai import AzureChatOpenAI\n",
    "from langchain_openai import AzureOpenAIEmbeddings\n",
    "from langchain_core.prompts.base import BasePromptTemplate\n",
    "from pydantic import Field\n",
    "from langchain_core.prompts.prompt import PromptTemplate\n",
    "from azure.core.credentials import AzureKeyCredential\n",
    "from langchain_community.graphs import OntotextGraphDBGraph\n",
    "from rdflib.plugins.sparql import prepareQuery\n",
    "from rdflib import Graph\n",
    "import os\n",
    "import pandas as pd\n",
    "\n",
    "from dotenv import load_dotenv\n",
    "load_dotenv(os.path.join(\"..\", \"Azure OpenAI credentials.env\"))"
   ]
  },
  {
   "cell_type": "code",
   "execution_count": 2,
   "metadata": {},
   "outputs": [],
   "source": [
    "azure_endpoint = os.environ['GLOBAL_AZURE_ENDPOINT']\n",
    "openai_api_key = os.environ['GLOBAL_OPENAI_API_KEY']\n",
    "\n",
    "openai_deployment_name = os.environ['GLOBAL_GPT_DEPLOYMENT_NAME']\n",
    "openai_api_version = os.environ['GLOBAL_OPENAI_API_VERSION']\n",
    "embedding_model = os.environ['GLOBAL_EMBEDDING_MODEL']\n",
    "embedding_deployment_name = os.environ['GLOBAL_EMBEDDING_DEPLOYMENT_NAME']\n",
    "\n",
    "search_endpoint = os.environ['SEARCH_ENDPOINT']\n",
    "search_api_key = os.environ['SEARCH_API_KEY']\n",
    "search_api_version = os.environ['SEARCH_API_VERSION']\n",
    "search_service_name = os.environ['SEARCH_SERVICE_NAME']\n",
    "\n",
    "# langsmith_api_key = os.environ['LANGSMITH_API_KEY']\n",
    "\n",
    "search_url = f\"https://{search_service_name}.search.windows.net/\"\n",
    "search_credential = AzureKeyCredential(search_api_key)\n",
    "\n",
    "llm = AzureChatOpenAI(\n",
    "    deployment_name=openai_deployment_name, \n",
    "    openai_api_version=openai_api_version, \n",
    "    openai_api_key=openai_api_key, \n",
    "    azure_endpoint=azure_endpoint, \n",
    "    temperature=0\n",
    ")\n",
    "\n",
    "embeddings = AzureOpenAIEmbeddings(\n",
    "    azure_deployment=embedding_deployment_name,\n",
    "    api_version=openai_api_version,\n",
    "    api_key=openai_api_key,\n",
    "    azure_endpoint=azure_endpoint,\n",
    ")"
   ]
  },
  {
   "cell_type": "markdown",
   "metadata": {},
   "source": [
    "## Parameters"
   ]
  },
  {
   "cell_type": "code",
   "execution_count": 3,
   "metadata": {},
   "outputs": [],
   "source": [
    "QUESTION_GENERATOR_TEMPLATE = \"\"\"\n",
    "Your task is to produce a list of questions in natural language that can be answered using the given ontology schema.\n",
    "The desired ooutput is a list that is as diverse as possible, covering a wide range of topics and types of questions.\n",
    "Sample output:\n",
    "\"What is the estimated financial loss for a fire in an electrical substation?\", \"How do the estimated losses compare between the fire on a moored fuel tanker and structural integrity issues on the wharf?\", \"When is the recommendation to replace reclaimers expected to be implemented?\"\n",
    "Do not include any explanations or apologies in your output.\n",
    "Do not include any text except for the questions.\n",
    "Do not include a number at the beginning of the question.\n",
    "Generate 30 questions.\n",
    "The ontology schema delimited by triple backticks in Turtle format is:\n",
    "```\n",
    "{schema}\n",
    "```\n",
    "\"\"\"\n",
    "\n",
    "QUESTION_GENERATOR_PROMPT = PromptTemplate(\n",
    "    input_variables=[\"schema\"],\n",
    "    template=QUESTION_GENERATOR_TEMPLATE,\n",
    ")\n",
    "\n",
    "question_generator_prompt: BasePromptTemplate = QUESTION_GENERATOR_PROMPT"
   ]
  },
  {
   "cell_type": "code",
   "execution_count": 5,
   "metadata": {},
   "outputs": [],
   "source": [
    "file_path = os.path.join(\"..\", \"ontology\", \"V12_DPO_Individuals.ttl\")\n",
    "\n",
    "g = Graph()\n",
    "g.parse(file_path)\n",
    "\n",
    "with open(file_path, 'r', encoding='utf-8') as file:\n",
    "    ontology = file.read()"
   ]
  },
  {
   "cell_type": "markdown",
   "metadata": {},
   "source": [
    "## Chain"
   ]
  },
  {
   "cell_type": "code",
   "execution_count": 6,
   "metadata": {},
   "outputs": [],
   "source": [
    "question_generator_chain = question_generator_prompt | llm\n",
    "\n",
    "question_generator_chain_result = question_generator_chain.invoke(\n",
    "    {\"schema\": ontology}\n",
    ")\n",
    "\n",
    "output = question_generator_chain_result.content"
   ]
  },
  {
   "cell_type": "code",
   "execution_count": 7,
   "metadata": {},
   "outputs": [
    {
     "name": "stdout",
     "output_type": "stream",
     "text": [
      "What is the name of the company that owns Hamersley Iron Pty Ltd?\n",
      "\n",
      "Which division operates the Dampier Port?\n",
      "\n",
      "What is the material handled at Parker Point?\n",
      "\n",
      "How much iron ore does East Intercourse Island handle annually?\n",
      "\n",
      "What type of equipment is used for inloading at Parker Point?\n",
      "\n",
      "What is the description of the Perth Operations Centre?\n",
      "\n",
      "When was the Remote Draft Survey System retired?\n",
      "\n",
      "What is the annual budget of the SMART Program?\n",
      "\n",
      "How many recommendations were completed since the last review in 2023?\n",
      "\n",
      "What is the expected response time for Recommendation 1?\n",
      "\n",
      "What is the incident description for the \"Fixed Plant Incident\"?\n",
      "\n",
      "What is the planned increase in Dampier shipping for 2023?\n",
      "\n",
      "What is the estimated cost for the Parker Point Reclaimer Replacement project?\n",
      "\n",
      "What is the project description for the \"Dampier Fuel Wharf Improvement\"?\n",
      "\n",
      "What is the material description of the SB 10 product?\n",
      "\n",
      "What is the water supply source for Dampier and Wickham towns?\n",
      "\n",
      "What is the audit and review description for the BCA Audit?\n",
      "\n",
      "What is the critical risk scenario description for DPO-01?\n",
      "\n",
      "What is the estimated declared business interruption value for Dampier Port in 2023?\n",
      "\n",
      "What is the dependency definition related to water supply for Dampier operations?\n",
      "\n",
      "What is the inherent hazard for the critical risk scenario DPO-04?\n",
      "\n",
      "What is the workaround for the critical risk scenario DPO-05?\n",
      "\n",
      "What is the recovery repair cost for the critical risk scenario DPO-07?\n",
      "\n",
      "What is the inherent control for the critical risk scenario DPO-10?\n",
      "\n",
      "What is the soft control for the critical risk scenario DPO-11?\n",
      "\n",
      "What is the repair period for the critical risk scenario DPO-12?\n",
      "\n",
      "What is the total loss in USD for the critical risk scenario DPO-16?\n",
      "\n",
      "What is the recommendation detail text for DPO-11-02-07?\n",
      "\n",
      "What is the recommendation status for DPO-12-03-03?\n",
      "\n",
      "What is the recommendation priority for DPO-18-04-01?\n"
     ]
    }
   ],
   "source": [
    "print(output)"
   ]
  },
  {
   "cell_type": "code",
   "execution_count": 8,
   "metadata": {},
   "outputs": [
    {
     "data": {
      "text/plain": [
       "['What is the name of the company that owns Hamersley Iron Pty Ltd?',\n",
       " 'Which division operates the Dampier Port?',\n",
       " 'What is the material handled at Parker Point?',\n",
       " 'How much iron ore does East Intercourse Island handle annually?',\n",
       " 'What type of equipment is used for inloading at Parker Point?',\n",
       " 'What is the description of the Perth Operations Centre?',\n",
       " 'When was the Remote Draft Survey System retired?',\n",
       " 'What is the annual budget of the SMART Program?',\n",
       " 'How many recommendations were completed since the last review in 2023?',\n",
       " 'What is the expected response time for Recommendation 1?',\n",
       " 'What is the incident description for the \"Fixed Plant Incident\"?',\n",
       " 'What is the planned increase in Dampier shipping for 2023?',\n",
       " 'What is the estimated cost for the Parker Point Reclaimer Replacement project?',\n",
       " 'What is the project description for the \"Dampier Fuel Wharf Improvement\"?',\n",
       " 'What is the material description of the SB 10 product?',\n",
       " 'What is the water supply source for Dampier and Wickham towns?',\n",
       " 'What is the audit and review description for the BCA Audit?',\n",
       " 'What is the critical risk scenario description for DPO-01?',\n",
       " 'What is the estimated declared business interruption value for Dampier Port in 2023?',\n",
       " 'What is the dependency definition related to water supply for Dampier operations?',\n",
       " 'What is the inherent hazard for the critical risk scenario DPO-04?',\n",
       " 'What is the workaround for the critical risk scenario DPO-05?',\n",
       " 'What is the recovery repair cost for the critical risk scenario DPO-07?',\n",
       " 'What is the inherent control for the critical risk scenario DPO-10?',\n",
       " 'What is the soft control for the critical risk scenario DPO-11?',\n",
       " 'What is the repair period for the critical risk scenario DPO-12?',\n",
       " 'What is the total loss in USD for the critical risk scenario DPO-16?',\n",
       " 'What is the recommendation detail text for DPO-11-02-07?',\n",
       " 'What is the recommendation status for DPO-12-03-03?',\n",
       " 'What is the recommendation priority for DPO-18-04-01?']"
      ]
     },
     "execution_count": 8,
     "metadata": {},
     "output_type": "execute_result"
    }
   ],
   "source": [
    "questions_list = output.split(\"\\n\\n\")\n",
    "questions_list"
   ]
  },
  {
   "cell_type": "markdown",
   "metadata": {},
   "source": [
    "## Export"
   ]
  },
  {
   "cell_type": "code",
   "execution_count": 9,
   "metadata": {},
   "outputs": [],
   "source": [
    "df = pd.DataFrame(columns=[\"Question\"])\n",
    "\n",
    "for question in questions_list:\n",
    "    test_result = pd.DataFrame([{\n",
    "        \"Question\": str(question),\n",
    "    }])\n",
    "\n",
    "    df = pd.concat([df, test_result], ignore_index=True)\n",
    "\n",
    "# Generate question codes\n",
    "code_sequence = [f\"CRD-{str(i).zfill(2)}\" for i in range(1, len(df) + 1)]\n",
    "try:\n",
    "    df.insert(0, 'Code', code_sequence)\n",
    "except:\n",
    "    pass"
   ]
  },
  {
   "cell_type": "code",
   "execution_count": 12,
   "metadata": {},
   "outputs": [],
   "source": [
    "output_file_path = os.path.join(\"..\", \"validation\", \"Generated Questions_V12.xlsx\")\n",
    "\n",
    "writer = pd.ExcelWriter(output_file_path, engine='xlsxwriter')\n",
    "df.to_excel(writer, sheet_name='Sheet1', index=False)\n",
    "\n",
    "writer.close()"
   ]
  }
 ],
 "metadata": {
  "kernelspec": {
   "display_name": "Python 3",
   "language": "python",
   "name": "python3"
  },
  "language_info": {
   "codemirror_mode": {
    "name": "ipython",
    "version": 3
   },
   "file_extension": ".py",
   "mimetype": "text/x-python",
   "name": "python",
   "nbconvert_exporter": "python",
   "pygments_lexer": "ipython3",
   "version": "3.12.2"
  }
 },
 "nbformat": 4,
 "nbformat_minor": 2
}
